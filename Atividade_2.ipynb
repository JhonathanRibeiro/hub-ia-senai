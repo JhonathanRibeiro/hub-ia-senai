{
  "nbformat": 4,
  "nbformat_minor": 0,
  "metadata": {
    "colab": {
      "provenance": []
    },
    "kernelspec": {
      "name": "python3",
      "display_name": "Python 3"
    },
    "language_info": {
      "name": "python"
    }
  },
  "cells": [
    {
      "cell_type": "markdown",
      "source": [
        "Considere o artigo:\n",
        "```python\n",
        "Bloice, M.D., Holzinger, A. (2016). A Tutorial on Machine Learning and Data Science Tools with Python.\n",
        "```\n",
        "In: Holzinger, A. (eds) Machine Learning for Health Informatics.<br> Lecture Notes in Computer Science(), vol 9605. Springer, Cham. <br>https://doi.org/10.1007/978-3-319-50478-0_22\n",
        "\n"
      ],
      "metadata": {
        "id": "_UB4Al1_bo7S"
      }
    },
    {
      "cell_type": "markdown",
      "source": [
        "Utilizando as bibliotecas `PyMuPDF` e `Regex`, faça a extração do texto e apresente todas as **URLs** presentes no artigo."
      ],
      "metadata": {
        "id": "QFMnFkBTdFWP"
      }
    },
    {
      "cell_type": "markdown",
      "source": [
        "Acesso ao Formulário para envio do código:\n",
        "* https://forms.gle/D54GFxjB8s6ZqkPo9"
      ],
      "metadata": {
        "id": "imQqn0MR1yMy"
      }
    }
  ]
}
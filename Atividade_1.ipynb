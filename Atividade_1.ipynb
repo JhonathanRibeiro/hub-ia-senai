{
 "cells": [
  {
   "cell_type": "markdown",
   "metadata": {
    "id": "cXC4WikDkE8r"
   },
   "source": [
    "### **Atividade com Nota**\n",
    "Link de envio:\n",
    "https://forms.gle/rEGR8vXj365VcV628"
   ]
  },
  {
   "cell_type": "markdown",
   "metadata": {
    "id": "e9QTLDi29NKd"
   },
   "source": [
    "#### Exercício 1: Análise de Dados de Vendas\n",
    "\n",
    "- Você recebeu os dados de vendas de uma loja durante um mês;\n",
    "- Eles estão organizados em uma lista de tuplas, onde cada tupla contém o **nome do produto**, a **quantidade vendida** e o **valor total da venda**. Você deve realizar uma análise utilizando listas, compreensão de listas, `itertools`, dicionários e conjuntos.\n",
    "\n",
    "#### Dados fornecidos:\n",
    "```python\n",
    "vendas = [\n",
    "    ('Camiseta', 10, 200),\n",
    "    ('Calça', 5, 250),\n",
    "    ('Jaqueta', 2, 300),\n",
    "    ('Camiseta', 7, 140),\n",
    "    ('Calça', 3, 150),\n",
    "    ('Boné', 4, 80),\n",
    "    ('Jaqueta', 1, 150),\n",
    "    ('Camiseta', 8, 160),\n",
    "    ('Boné', 3, 60),\n",
    "]\n",
    "```\n",
    "\n",
    "#### Tarefas:\n",
    "\n",
    "1. **Listas e Compreensão de Listas**:\n",
    "   - Crie uma nova lista contendo apenas os produtos únicos vendidos (sem repetições). Use uma compreensão de lista e um conjunto (`set`) para garantir que não haja duplicatas.\n",
    "\n",
    "2. **itertools**:\n",
    "   - Use `itertools` para agrupar as vendas por produto e somar a quantidade total vendida para cada produto.\n",
    "\n",
    "3. **Dicionários**:\n",
    "   - Crie um dicionário onde as chaves são os produtos e os valores são listas que contêm a quantidade total vendida e o valor total de vendas de cada produto.\n",
    "\n",
    "4. **Conjuntos**:\n",
    "   - Crie dois conjuntos: um contendo os produtos vendidos com mais de 20 unidades e outro contendo os produtos que geraram um valor total de vendas superior a 500.\n",
    "\n"
   ]
  },
  {
   "cell_type": "code",
   "execution_count": null,
   "metadata": {},
   "outputs": [
    {
     "name": "stdout",
     "output_type": "stream",
     "text": [
      "Produtos únicos vendidos: ['Jaqueta', 'Calça', 'Boné', 'Camiseta']\n"
     ]
    }
   ],
   "source": [
    "# Tarefa 1 - Listas e compreensão de listas\n",
    "\n",
    "# Dados\n",
    "vendas = [\n",
    "    ('Camiseta', 10, 200),\n",
    "    ('Calça', 5, 250),\n",
    "    ('Jaqueta', 2, 300),\n",
    "    ('Camiseta', 7, 140),\n",
    "    ('Calça', 3, 150),\n",
    "    ('Boné', 4, 80),\n",
    "    ('Jaqueta', 1, 150),\n",
    "    ('Camiseta', 8, 160),\n",
    "    ('Boné', 3, 60),\n",
    "]\n",
    "\n",
    "# Criando uma lista de produtos únicos usando compreensão de lista e set\n",
    "produtos_unicos = list({produto for produto, _, _ in vendas})\n",
    "\n",
    "# Exibindo os produtos únicos\n",
    "print(\"Produtos únicos vendidos:\", produtos_unicos)"
   ]
  },
  {
   "cell_type": "code",
   "execution_count": 2,
   "metadata": {},
   "outputs": [
    {
     "name": "stdout",
     "output_type": "stream",
     "text": [
      "Quantidades totais vendidas por produto: {'Boné': 7, 'Calça': 8, 'Camiseta': 25, 'Jaqueta': 3}\n"
     ]
    }
   ],
   "source": [
    "# Tarefa 2 - Itertools\n",
    "import itertools\n",
    "\n",
    "# Agrupando vendas por produto usando itertools.groupby\n",
    "vendas_agrupadas = {}\n",
    "# Primeiro, ordenamos a lista por produto, pois groupby requer isso.\n",
    "vendas_ordenadas = sorted(vendas, key=lambda x: x[0])\n",
    "\n",
    "# Iterando sobre os grupos de produtos\n",
    "for produto, grupo in itertools.groupby(vendas_ordenadas, key=lambda x: x[0]):\n",
    "    # Somando a quantidade total vendida para cada produto\n",
    "    total_quantidade = sum(item[1] for item in grupo)\n",
    "    vendas_agrupadas[produto] = total_quantidade\n",
    "\n",
    "# Exibindo as quantidades totais vendidas por produto\n",
    "print(\"Quantidades totais vendidas por produto:\", vendas_agrupadas)\n"
   ]
  },
  {
   "cell_type": "code",
   "execution_count": null,
   "metadata": {},
   "outputs": [
    {
     "name": "stdout",
     "output_type": "stream",
     "text": [
      "Dicionário de vendas: {'Camiseta': [25, 500], 'Calça': [8, 400], 'Jaqueta': [3, 450], 'Boné': [7, 140]}\n"
     ]
    }
   ],
   "source": [
    "# Tarefa 3\n",
    "# Criando um dicionário para armazenar quantidade total e valor total de vendas por produto\n",
    "dicionario_vendas = {}\n",
    "\n",
    "# Iterando sobre a lista de vendas para somar quantidades e valores por produto\n",
    "for produto, quantidade, valor in vendas:\n",
    "    if produto not in dicionario_vendas:\n",
    "        dicionario_vendas[produto] = [0, 0]  # Inicializa quantidade e valor como 0\n",
    "    dicionario_vendas[produto][0] += quantidade  # Soma a quantidade\n",
    "    dicionario_vendas[produto][1] += valor       # Soma o valor\n",
    "\n",
    "# Exibindo o dicionário final\n",
    "print(\"Dicionário de vendas:\", dicionario_vendas)"
   ]
  },
  {
   "cell_type": "code",
   "execution_count": null,
   "metadata": {},
   "outputs": [
    {
     "name": "stdout",
     "output_type": "stream",
     "text": [
      "Produtos com mais de 20 unidades vendidas: {'Camiseta'}\n",
      "Produtos com valor total superior a 500: {'Camiseta'}\n"
     ]
    }
   ],
   "source": [
    "# Tarefa 4\n",
    "\n",
    "# Inicializando um dicionário para armazenar as informações de vendas:\n",
    "# Cada chave será o nome do produto, e o valor será uma lista contendo:\n",
    "# [quantidade total vendida, valor total das vendas].\n",
    "dicionario_vendas = {}\n",
    "\n",
    "# Iterando sobre a lista de vendas para preencher o dicionário.\n",
    "for produto, quantidade, valor in vendas:\n",
    "    # Se o produto ainda não está no dicionário, inicializa com [0, 0].\n",
    "    if produto not in dicionario_vendas:\n",
    "        dicionario_vendas[produto] = [0, 0]\n",
    "    # Adicionando a quantidade vendida deste item ao total.\n",
    "    dicionario_vendas[produto][0] += quantidade\n",
    "    # Adicionando o valor total da venda ao acumulado deste produto.\n",
    "    dicionario_vendas[produto][1] += valor\n",
    "\n",
    "# Criando um conjunto com os produtos que tiveram mais de 20 unidades vendidas.\n",
    "produtos_mais_de_20_unidades = {\n",
    "    produto for produto, valores in dicionario_vendas.items() if valores[0] > 20\n",
    "}\n",
    "\n",
    "# Criando um conjunto com os produtos cujo valor total de vendas foi igual ou superior a 500.\n",
    "produtos_valor_total_mais_de_500 = {\n",
    "    produto for produto, valores in dicionario_vendas.items() if valores[1] >= 500\n",
    "}\n",
    "\n",
    "# Exibindo os resultados finais.\n",
    "print(\"Produtos com mais de 20 unidades vendidas:\", produtos_mais_de_20_unidades)\n",
    "print(\"Produtos com valor total superior a 500:\", produtos_valor_total_mais_de_500)"
   ]
  },
  {
   "cell_type": "markdown",
   "metadata": {
    "id": "IyWvWpmJ9wEJ"
   },
   "source": [
    "#### Exemplo de Saída Esperada:"
   ]
  },
  {
   "cell_type": "code",
   "execution_count": null,
   "metadata": {
    "id": "hJSSRdZ19rcl"
   },
   "outputs": [],
   "source": [
    "# Produtos únicos vendidos\n",
    "['Camiseta', 'Calça', 'Jaqueta', 'Boné']\n",
    "\n",
    "# Quantidade total vendida por produto\n",
    "{'Camiseta': 25, 'Calça': 8, 'Jaqueta': 3, 'Boné': 7}\n",
    "\n",
    "# Dicionário com quantidade e valor total de vendas por produto\n",
    "{'Camiseta': [25, 500], 'Calça': [8, 400], 'Jaqueta': [3, 450], 'Boné': [7, 140]}\n",
    "\n",
    "# Conjuntos de produtos com mais de 20 unidades vendidas e mais de 500 em vendas totais\n",
    "# Produtos com mais de 20 unidades vendidas: {'Camiseta'}\n",
    "# Produtos com mais de 500 em vendas totais: {'Camiseta', 'Jaqueta'}"
   ]
  },
  {
   "cell_type": "markdown",
   "metadata": {
    "id": "61JcTLEujIVM"
   },
   "source": [
    "### Exercício 2: Análise de Dados de Alunos\n",
    "\n",
    "Você tem uma lista com registros de alunos, onde cada registro contém o nome do aluno, a disciplina e a nota final que ele obteve. Você precisa processar esses dados para extrair informações específicas e responder a algumas perguntas sobre o desempenho dos alunos.\n",
    "\n"
   ]
  },
  {
   "cell_type": "code",
   "execution_count": null,
   "metadata": {
    "id": "zXcxd76pkGJV"
   },
   "outputs": [],
   "source": [
    "#### Dados fornecidos:\n",
    "alunos = [\n",
    "    ('Alice', 'Matemática', 85),\n",
    "    ('Bob', 'História', 78),\n",
    "    ('Alice', 'História', 95),\n",
    "    ('Bob', 'Matemática', 82),\n",
    "    ('Carlos', 'Matemática', 70),\n",
    "    ('Carlos', 'História', 65),\n",
    "    ('Alice', 'Física', 90),\n",
    "    ('Bob', 'Física', 85),\n",
    "    ('Carlos', 'Física', 75),\n",
    "    ('Diana', 'Matemática', 88),\n",
    "    ('Diana', 'História', 92),\n",
    "    ('Diana', 'Física', 95),\n",
    "]"
   ]
  },
  {
   "cell_type": "markdown",
   "metadata": {
    "id": "NH1nPS5hkGkT"
   },
   "source": [
    "#### Tarefas:\n",
    "\n",
    "1. **Listas e Compreensão de Listas**:\n",
    "   - Crie uma lista de todas as disciplinas disponíveis (sem duplicação), usando uma compreensão de lista e um conjunto para garantir que não haja repetições.\n",
    "\n",
    "2. **Agrupamento de Notas por Aluno**:\n",
    "   - Crie um dicionário onde as chaves são os nomes dos alunos e os valores são listas com as notas. Em seguida, calcule a média das notas para cada aluno.\n",
    "\n",
    "3. **Dicionários**:\n",
    "   - Crie um dicionário que armazene as notas de cada aluno para cada disciplina. As chaves devem ser os nomes dos alunos, e os valores devem ser dicionários onde as chaves são as disciplinas e os valores são as notas.\n",
    "\n",
    "4. **Conjuntos**:\n",
    "   - Crie dois conjuntos:\n",
    "     - Um contendo os nomes dos alunos que têm uma média superior a 80.\n",
    "     - Outro contendo os nomes dos alunos que obtiveram nota superior a 90 em pelo menos uma disciplina.\n",
    "\n"
   ]
  },
  {
   "cell_type": "code",
   "execution_count": null,
   "metadata": {
    "id": "0QJJNHmpji77"
   },
   "outputs": [],
   "source": [
    "#### Exemplo de Saída Esperada:\n",
    "# Disciplinas disponíveis:\n",
    "['Matemática', 'História', 'Física']\n",
    "# Média de notas por aluno:\n",
    "{'Alice': 90.0, 'Bob': 81.67, 'Carlos': 70.0, 'Diana': 91.67}\n",
    "# Notas de cada aluno por disciplina:\n",
    "{'Alice': {'Matemática': 85, 'História': 95, 'Física': 90}, 'Bob': {'História': 78, 'Matemática': 82, 'Física': 85}, 'Carlos': {'Matemática': 70, 'História': 65, 'Física': 75}, 'Diana': {'Matemática': 88, 'História': 92, 'Física': 95}}\n",
    "# Alunos com média superior a 80:\n",
    "{'Alice', 'Bob', 'Diana'}\n",
    "# Alunos com nota superior a 90 em pelo menos uma disciplina:\n",
    "{'Alice', 'Diana'}"
   ]
  },
  {
   "cell_type": "code",
   "execution_count": null,
   "metadata": {},
   "outputs": [
    {
     "name": "stdout",
     "output_type": "stream",
     "text": [
      "Disciplinas disponíveis: ['Física', 'História', 'Matemática']\n"
     ]
    }
   ],
   "source": [
    "# Exercício 2 - Atividade 1\n",
    "# Dados fornecidos\n",
    "alunos = [\n",
    "    ('Alice', 'Matemática', 85),\n",
    "    ('Bob', 'História', 78),\n",
    "    ('Alice', 'História', 95),\n",
    "    ('Bob', 'Matemática', 82),\n",
    "    ('Carlos', 'Matemática', 70),\n",
    "    ('Carlos', 'História', 65),\n",
    "    ('Alice', 'Física', 90),\n",
    "    ('Bob', 'Física', 85),\n",
    "    ('Carlos', 'Física', 75),\n",
    "    ('Diana', 'Matemática', 88),\n",
    "    ('Diana', 'História', 92),\n",
    "    ('Diana', 'Física', 95),\n",
    "]\n",
    "\n",
    "# Criando uma lista de disciplinas únicas usando compreensão de lista e set\n",
    "disciplinas_unicas = list({disciplina for _, disciplina, _ in alunos})\n",
    "# Exibindo as disciplinas únicas\n",
    "print(\"Disciplinas disponíveis:\", disciplinas_unicas)"
   ]
  },
  {
   "cell_type": "code",
   "execution_count": null,
   "metadata": {},
   "outputs": [
    {
     "name": "stdout",
     "output_type": "stream",
     "text": [
      "# Média de notas por aluno:\n",
      "{'Alice': 90.0, 'Bob': 81.67, 'Carlos': 70.0, 'Diana': 91.67}\n",
      "# Notas de cada aluno por disciplina:\n",
      "{'Alice': {'Matemática': 85, 'História': 95, 'Física': 90}, 'Bob': {'História': 78, 'Matemática': 82, 'Física': 85}, 'Carlos': {'Matemática': 70, 'História': 65, 'Física': 75}, 'Diana': {'Matemática': 88, 'História': 92, 'Física': 95}}\n"
     ]
    }
   ],
   "source": [
    "# Exercício 2 - Atividade 2\n",
    "\n",
    "# Criando um dicionário para armazenar as notas detalhadas por disciplina\n",
    "notas_disciplinas = {}\n",
    "\n",
    "# Iterando sobre os registros para preencher o dicionário\n",
    "for aluno, disciplina, nota in alunos:\n",
    "    # Se o aluno ainda não estiver no dicionário, inicializo um novo dicionário para ele\n",
    "    if aluno not in notas_disciplinas:\n",
    "        notas_disciplinas[aluno] = {}\n",
    "    # Adicionando a disciplina e a nota correspondente ao aluno\n",
    "    notas_disciplinas[aluno][disciplina] = nota\n",
    "\n",
    "# Criando um dicionário para armazenar a média das notas por aluno\n",
    "medias_por_aluno = {\n",
    "    aluno: round(sum(notas.values()) / len(notas), 2) for aluno, notas in notas_disciplinas.items()\n",
    "}\n",
    "\n",
    "# Exibindo o resultado\n",
    "print(\"# Média de notas por aluno:\")\n",
    "print(medias_por_aluno)\n",
    "\n",
    "print(\"# Notas de cada aluno por disciplina:\")\n",
    "print(notas_disciplinas)"
   ]
  },
  {
   "cell_type": "code",
   "execution_count": 5,
   "metadata": {},
   "outputs": [
    {
     "name": "stdout",
     "output_type": "stream",
     "text": [
      "Notas detalhadas por aluno: {'Alice': {'Matemática': 85, 'História': 95, 'Física': 90}, 'Bob': {'História': 78, 'Matemática': 82, 'Física': 85}, 'Carlos': {'Matemática': 70, 'História': 65, 'Física': 75}, 'Diana': {'Matemática': 88, 'História': 92, 'Física': 95}}\n"
     ]
    }
   ],
   "source": [
    "# Exercício 2 - Atividade 3\n",
    "# Criando um dicionário para armazenar as notas por disciplina para cada aluno\n",
    "notas_detalhadas = {}\n",
    "\n",
    "# Iterando sobre os registros para preencher o dicionário\n",
    "for aluno, disciplina, nota in alunos:\n",
    "    # Se o aluno não estiver no dicionário, adicionamos uma entrada para ele\n",
    "    if aluno not in notas_detalhadas:\n",
    "        notas_detalhadas[aluno] = {}\n",
    "    # Adicionamos ou atualizamos a nota da disciplina para o aluno\n",
    "    notas_detalhadas[aluno][disciplina] = nota\n",
    "\n",
    "# Exibindo o dicionário detalhado\n",
    "print(\"Notas detalhadas por aluno:\", notas_detalhadas)"
   ]
  },
  {
   "cell_type": "code",
   "execution_count": 6,
   "metadata": {},
   "outputs": [
    {
     "name": "stdout",
     "output_type": "stream",
     "text": [
      "Alunos com média superior a 80: {'Bob', 'Diana', 'Alice'}\n",
      "Alunos com nota superior a 90 em pelo menos uma disciplina: {'Diana', 'Alice'}\n"
     ]
    }
   ],
   "source": [
    "# Exercício 2 - Atividade 4\n",
    "\n",
    "# Conjunto de alunos com média superior a 80\n",
    "alunos_media_acima_80 = {aluno for aluno, media in medias_por_aluno.items() if media > 80}\n",
    "\n",
    "# Conjunto de alunos que obtiveram nota superior a 90 em pelo menos uma disciplina\n",
    "alunos_nota_acima_90 = {aluno for aluno, notas in notas_por_aluno.items() if any(nota > 90 for nota in notas)}\n",
    "\n",
    "# Exibindo os conjuntos\n",
    "print(\"Alunos com média superior a 80:\", alunos_media_acima_80)\n",
    "print(\"Alunos com nota superior a 90 em pelo menos uma disciplina:\", alunos_nota_acima_90)"
   ]
  }
 ],
 "metadata": {
  "colab": {
   "provenance": []
  },
  "kernelspec": {
   "display_name": "Python 3",
   "name": "python3"
  },
  "language_info": {
   "codemirror_mode": {
    "name": "ipython",
    "version": 3
   },
   "file_extension": ".py",
   "mimetype": "text/x-python",
   "name": "python",
   "nbconvert_exporter": "python",
   "pygments_lexer": "ipython3",
   "version": "3.12.6"
  }
 },
 "nbformat": 4,
 "nbformat_minor": 0
}

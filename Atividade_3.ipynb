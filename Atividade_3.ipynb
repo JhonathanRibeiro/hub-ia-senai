{
 "cells": [
  {
   "cell_type": "markdown",
   "metadata": {
    "id": "oIXB2qX5Gc40"
   },
   "source": [
    "## Considere a base de dados **Customer Data and Bank Loans**\n",
    "- https://www.kaggle.com/datasets/daniellopez01/credit-risk\n",
    "- Formulário para envio da Atividade: https://forms.gle/5jCooRKSFvKDvtGG6\n",
    "\n",
    "### Descrição do conjunto de dados\n",
    "O conjunto de dados inclui 1.000 registros com informações sobre pedidos de empréstimo, incluindo variáveis relacionadas à situação financeira do solicitante, histórico de crédito e detalhes do empréstimo. O objetivo é analisar padrões de risco de crédito ou construir modelos para prever inadimplência de empréstimos.\n",
    "\n",
    "### Inspiração\n",
    "Este conjunto de dados pode ser usado para:\n",
    "\n",
    "* Construção de modelos preditivos para inadimplência de empréstimos.\n",
    "* Explorando relações entre variáveis financeiras e risco de crédito.\n",
    "* Aprimorando sua compreensão da análise de risco de crédito."
   ]
  },
  {
   "cell_type": "markdown",
   "metadata": {
    "id": "qEC9NLq2Gm1d"
   },
   "source": [
    "### Exercícios:\n",
    "---\n",
    "1. **Agrupamento por `credit_history` com resumo estatístico:**  \n",
    "   Agrupe os dados pela coluna `credit_history` e calcule:\n",
    "   - A soma total dos valores da coluna `amount`;\n",
    "   - A idade média (`age`) para cada grupo.\n",
    "---\n",
    "\n",
    "2. **Criação de uma coluna com média ajustada:**  \n",
    "   Crie uma nova coluna chamada `amount_ratio`, que contém o valor de `amount` dividido pela média de `amount` em cada categoria de `purpose`.\n",
    "---\n",
    "\n",
    "3. **Classificação de idade:**  \n",
    "   Crie uma nova coluna chamada `age_group` que classifica os valores de `age` em categorias:\n",
    "   - \"Under 30\" se a idade for menor que 30;\n",
    "   - \"30-50\" se a idade estiver entre 30 e 50;\n",
    "   - \"Over 50\" se a idade for maior que 50.\n",
    "---\n",
    "\n",
    "4. **Análise de variabilidade por `employment_duration` e `housing`:**  \n",
    "   Agrupe os dados pelas colunas `employment_duration` e `housing` e calcule:\n",
    "   - A média e o desvio padrão (`std`) da coluna `amount`.\n",
    "---\n",
    "\n",
    "5. **Distribuição de idade mínima e máxima por `job`:**  \n",
    "   Agrupe os dados pela coluna `job` e calcule:\n",
    "   - A idade mínima (`age_min`) e a idade máxima (`age_max`) para cada categoria de emprego.\n",
    "---\n",
    "\n",
    "6. **Diferença entre o valor do empréstimo e a média por histórico de crédito (`transform`):**  \n",
    "   Crie uma nova coluna chamada `amount_diff`, que contém a diferença entre o valor de `amount` e a média de `amount` dentro de cada grupo de `credit_history`.\n",
    "---\n",
    "\n",
    "7. **Quantidade de dependentes por tipo de conta bancária (`groupby` e `agg`):**  \n",
    "   Agrupe os dados pela coluna `checking_balance` e calcule:\n",
    "   - A soma total de `dependents`;\n",
    "   - O número médio de dependentes por categoria de conta bancária.\n",
    "---"
   ]
  },
  {
   "cell_type": "code",
   "execution_count": null,
   "metadata": {
    "id": "62WMF9DcGZSo"
   },
   "outputs": [
    {
     "name": "stdout",
     "output_type": "stream",
     "text": [
      "  credit_history  total_amount  average_age\n",
      "0       critical        904795           39\n",
      "1           good       1611708           34\n",
      "2        perfect        212227           35\n",
      "3           poor        378629           37\n",
      "4      very good        163899           37\n"
     ]
    }
   ],
   "source": [
    "# Questão 1: **Agrupamento por `credit_history` com resumo estatístico**  \n",
    "#    Agrupe os dados pela coluna `credit_history` e calcule:\n",
    "#    - A soma total dos valores da coluna `amount`;\n",
    "#    - A idade média (`age`) para cada grupo.\n",
    "import pandas as pd\n",
    "import numpy as np\n",
    "\n",
    "data = pd.read_csv(\"base_dados_atividade3.csv\")\n",
    "\n",
    "# Padronizando os nomes das colunas\n",
    "data.columns = data.columns.str.lower().str.replace(\" \", \"_\")\n",
    "\n",
    "# Agrupar os dados pela coluna 'credit_history' e calcular as métricas\n",
    "grouped_data = data.groupby('credit_history').agg(\n",
    "    total_amount=('amount', 'sum'),\n",
    "    average_age=('age', 'mean')\n",
    ").reset_index()\n",
    "\n",
    "# Arredondando a idade média\n",
    "grouped_data['average_age'] = np.ceil(grouped_data['average_age']).astype(int)\n",
    "\n",
    "# Exibe os resultados\n",
    "print(grouped_data)"
   ]
  },
  {
   "cell_type": "code",
   "execution_count": null,
   "metadata": {},
   "outputs": [
    {
     "name": "stdout",
     "output_type": "stream",
     "text": [
      "  checking_balance  months_loan_duration credit_history               purpose  \\\n",
      "0           < 0 DM                     6       critical  furniture/appliances   \n",
      "1       1 - 200 DM                    48           good  furniture/appliances   \n",
      "2          unknown                    12       critical             education   \n",
      "3           < 0 DM                    42           good  furniture/appliances   \n",
      "4           < 0 DM                    24           poor                   car   \n",
      "\n",
      "   amount savings_balance employment_duration  percent_of_income  \\\n",
      "0    1169         unknown           > 7 years                  4   \n",
      "1    5951        < 100 DM         1 - 4 years                  2   \n",
      "2    2096        < 100 DM         4 - 7 years                  2   \n",
      "3    7882        < 100 DM         4 - 7 years                  2   \n",
      "4    4870        < 100 DM         1 - 4 years                  3   \n",
      "\n",
      "   years_at_residence  age other_credit housing  existing_loans_count  \\\n",
      "0                   4   67         none     own                     2   \n",
      "1                   2   22         none     own                     1   \n",
      "2                   3   49         none     own                     1   \n",
      "3                   4   45         none   other                     1   \n",
      "4                   4   53         none   other                     2   \n",
      "\n",
      "         job  dependents phone default  amount_ratio  \n",
      "0    skilled           1   yes      no      0.435506  \n",
      "1    skilled           1    no     yes      2.217018  \n",
      "2  unskilled           2    no      no      0.727979  \n",
      "3    skilled           2    no      no      2.936403  \n",
      "4    skilled           2    no     yes      1.292397  \n"
     ]
    }
   ],
   "source": [
    "# 2. **Criação de uma coluna com média ajustada:**  \n",
    "# Crie uma nova coluna chamada `amount_ratio`, que contém o valor de `amount` dividido pela média de `amount` em cada categoria de `purpose`.\n",
    "\n",
    "import pandas as pd\n",
    "\n",
    "data = pd.read_csv(\"base_dados_atividade3.csv\")\n",
    "\n",
    "# Padronizando o nome das colunas\n",
    "data.columns = data.columns.str.lower().str.replace(\" \", \"_\")\n",
    "\n",
    "# Calcular a média de 'amount' para cada categoria de 'purpose'\n",
    "purpose_mean_amount = data.groupby('purpose')['amount'].transform('mean')\n",
    "\n",
    "# Criar a nova coluna 'amount_ratio' dividindo 'amount' pela média de 'amount' por categoria de 'purpose'\n",
    "data['amount_ratio'] = data['amount'] / purpose_mean_amount\n",
    "\n",
    "# Exibe as primeiras linhas do DataFrame atualizado\n",
    "print(data.head())"
   ]
  }
 ],
 "metadata": {
  "colab": {
   "provenance": []
  },
  "kernelspec": {
   "display_name": "Python 3",
   "name": "python3"
  },
  "language_info": {
   "codemirror_mode": {
    "name": "ipython",
    "version": 3
   },
   "file_extension": ".py",
   "mimetype": "text/x-python",
   "name": "python",
   "nbconvert_exporter": "python",
   "pygments_lexer": "ipython3",
   "version": "3.12.6"
  }
 },
 "nbformat": 4,
 "nbformat_minor": 0
}

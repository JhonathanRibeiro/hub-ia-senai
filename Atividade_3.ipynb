{
  "nbformat": 4,
  "nbformat_minor": 0,
  "metadata": {
    "colab": {
      "provenance": []
    },
    "kernelspec": {
      "name": "python3",
      "display_name": "Python 3"
    },
    "language_info": {
      "name": "python"
    }
  },
  "cells": [
    {
      "cell_type": "markdown",
      "source": [
        "## Considere a base de dados **Customer Data and Bank Loans**\n",
        "- https://www.kaggle.com/datasets/daniellopez01/credit-risk\n",
        "- Formulário para envio da Atividade: https://forms.gle/5jCooRKSFvKDvtGG6"
      ],
      "metadata": {
        "id": "oIXB2qX5Gc40"
      }
    },
    {
      "cell_type": "markdown",
      "source": [
        "### Exercícios:\n",
        "---\n",
        "\n",
        "1. **Agrupamento por `credit_history` com resumo estatístico:**  \n",
        "   Agrupe os dados pela coluna `credit_history` e calcule:\n",
        "   - A soma total dos valores da coluna `amount`;\n",
        "   - A idade média (`age`) para cada grupo.\n",
        "\n",
        "---\n",
        "\n",
        "2. **Criação de uma coluna com média ajustada:**  \n",
        "   Crie uma nova coluna chamada `amount_ratio`, que contém o valor de `amount` dividido pela média de `amount` em cada categoria de `purpose`.\n",
        "\n",
        "---\n",
        "\n",
        "3. **Classificação de idade:**  \n",
        "   Crie uma nova coluna chamada `age_group` que classifica os valores de `age` em categorias:\n",
        "   - \"Under 30\" se a idade for menor que 30;\n",
        "   - \"30-50\" se a idade estiver entre 30 e 50;\n",
        "   - \"Over 50\" se a idade for maior que 50.\n",
        "\n",
        "---\n",
        "\n",
        "4. **Análise de variabilidade por `employment_duration` e `housing`:**  \n",
        "   Agrupe os dados pelas colunas `employment_duration` e `housing` e calcule:\n",
        "   - A média e o desvio padrão (`std`) da coluna `amount`.\n",
        "\n",
        "---\n",
        "\n",
        "5. **Distribuição de idade mínima e máxima por `job`:**  \n",
        "   Agrupe os dados pela coluna `job` e calcule:\n",
        "   - A idade mínima (`age_min`) e a idade máxima (`age_max`) para cada categoria de emprego.\n",
        "\n",
        "---\n",
        "\n",
        "6. **Diferença entre o valor do empréstimo e a média por histórico de crédito (`transform`):**  \n",
        "   Crie uma nova coluna chamada `amount_diff`, que contém a diferença entre o valor de `amount` e a média de `amount` dentro de cada grupo de `credit_history`.\n",
        "\n",
        "---\n",
        "\n",
        "7. **Quantidade de dependentes por tipo de conta bancária (`groupby` e `agg`):**  \n",
        "   Agrupe os dados pela coluna `checking_balance` e calcule:\n",
        "   - A soma total de `dependents`;\n",
        "   - O número médio de dependentes por categoria de conta bancária.\n",
        "\n",
        "---\n"
      ],
      "metadata": {
        "id": "qEC9NLq2Gm1d"
      }
    },
    {
      "cell_type": "code",
      "execution_count": null,
      "metadata": {
        "id": "62WMF9DcGZSo"
      },
      "outputs": [],
      "source": []
    }
  ]
}